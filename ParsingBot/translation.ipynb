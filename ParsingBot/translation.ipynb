from langdetect import detect
from googletrans import Translator

# Assuming that 'df' is your DataFrame and 'text' is the column with the text
def translate_text(text):
    try:
        lang = detect(text)
        if lang == 'en':
            return text
        else:
            translator = Translator()
            return translator.translate(text, dest='en').text
    except:
        return text
