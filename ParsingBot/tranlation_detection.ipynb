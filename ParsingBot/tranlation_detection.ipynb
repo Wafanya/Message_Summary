{
 "cells": [
  {
   "cell_type": "code",
   "execution_count": null,
   "metadata": {},
   "outputs": [],
   "source": [
    "from langdetect import detect\n",
    "from googletrans import Translator\n",
    "\n",
    "# Assuming that 'df' is your DataFrame and 'text' is the column with the text\n",
    "def translate_text(text):\n",
    "    try:\n",
    "        lang = detect(text)\n",
    "        if lang == 'en':\n",
    "            return text\n",
    "        else:\n",
    "            translator = Translator()\n",
    "            return translator.translate(text, dest='en').text\n",
    "    except:\n",
    "        return text"
   ]
  }
 ],
 "metadata": {
  "language_info": {
   "name": "python"
  }
 },
 "nbformat": 4,
 "nbformat_minor": 2
}
